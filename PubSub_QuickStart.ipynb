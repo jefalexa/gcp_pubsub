{
 "cells": [
  {
   "cell_type": "markdown",
   "metadata": {},
   "source": [
    "# GCP Pub/Sub QuickStart \n",
    "https://cloud.google.com/pubsub/docs/quickstart-client-libraries"
   ]
  },
  {
   "cell_type": "markdown",
   "metadata": {},
   "source": [
    "## Setup the Notebook Environment"
   ]
  },
  {
   "cell_type": "code",
   "execution_count": 1,
   "metadata": {},
   "outputs": [
    {
     "name": "stdout",
     "output_type": "stream",
     "text": [
      "PROJECT_ID                NAME                PROJECT_NUMBER\n",
      "bq-sandbox-275522         BQ Sandbox          825850861083\n",
      "homelab-266121            HomeLab             18021674906\n",
      "minecraftserver-237915    MinecraftServer     228956756515\n",
      "quickstart-1588989022480  Quickstart          34250947427\n",
      "sandbox-project-188621    Sandbox project     860402107822\n",
      "storage-project-01        storage-project-01  549499142500\n",
      "trafficapp-214315         TrafficApp          398258726631\n",
      "virtualtoolbox            VirtualToolbox      1048728763860\n",
      "Exception ignored in: <function _after_fork at 0x1050f7310>\n",
      "Traceback (most recent call last):\n",
      "  File \"/Library/Frameworks/Python.framework/Versions/3.9/lib/python3.9/threading.py\", line 1486, in _after_fork\n",
      "    thread._reset_internal_locks(True)\n",
      "  File \"/Library/Frameworks/Python.framework/Versions/3.9/lib/python3.9/threading.py\", line 829, in _reset_internal_locks\n",
      "    self._tstate_lock._at_fork_reinit()\n",
      "AttributeError: 'NoneType' object has no attribute '_at_fork_reinit'\n"
     ]
    }
   ],
   "source": [
    "!gcloud projects list"
   ]
  },
  {
   "cell_type": "code",
   "execution_count": 2,
   "metadata": {},
   "outputs": [],
   "source": [
    "# change these to try this notebook out\n",
    "PROJECT = 'sandbox-project-188621'\n",
    "import os\n",
    "os.environ['PROJECT'] = PROJECT\n",
    "\n",
    "dir_root = './'"
   ]
  },
  {
   "cell_type": "code",
   "execution_count": 3,
   "metadata": {},
   "outputs": [
    {
     "name": "stdout",
     "output_type": "stream",
     "text": [
      "[core]\n",
      "project = sandbox-project-188621\n"
     ]
    },
    {
     "name": "stderr",
     "output_type": "stream",
     "text": [
      "Updated property [core/project].\n",
      "Exception ignored in: <function _after_fork at 0x10d9f9310>\n",
      "Traceback (most recent call last):\n",
      "  File \"/Library/Frameworks/Python.framework/Versions/3.9/lib/python3.9/threading.py\", line 1486, in _after_fork\n",
      "    thread._reset_internal_locks(True)\n",
      "  File \"/Library/Frameworks/Python.framework/Versions/3.9/lib/python3.9/threading.py\", line 829, in _reset_internal_locks\n",
      "    self._tstate_lock._at_fork_reinit()\n",
      "AttributeError: 'NoneType' object has no attribute '_at_fork_reinit'\n",
      "\n",
      "Your active configuration is: [default]\n",
      "Exception ignored in: <function _after_fork at 0x109943310>\n",
      "Traceback (most recent call last):\n",
      "  File \"/Library/Frameworks/Python.framework/Versions/3.9/lib/python3.9/threading.py\", line 1486, in _after_fork\n",
      "    thread._reset_internal_locks(True)\n",
      "  File \"/Library/Frameworks/Python.framework/Versions/3.9/lib/python3.9/threading.py\", line 829, in _reset_internal_locks\n",
      "    self._tstate_lock._at_fork_reinit()\n",
      "AttributeError: 'NoneType' object has no attribute '_at_fork_reinit'\n"
     ]
    }
   ],
   "source": [
    "%%bash\n",
    "gcloud config set project $PROJECT\n",
    "gcloud config list project"
   ]
  },
  {
   "cell_type": "code",
   "execution_count": 4,
   "metadata": {},
   "outputs": [],
   "source": [
    "API_KEY = \"sandbox-project-188621-3ac36bf64693.json\""
   ]
  },
  {
   "cell_type": "markdown",
   "metadata": {},
   "source": [
    "## Creating a topic and a subscription"
   ]
  },
  {
   "cell_type": "code",
   "execution_count": 5,
   "metadata": {},
   "outputs": [
    {
     "name": "stdout",
     "output_type": "stream",
     "text": [
      "\u001b[1;31mERROR:\u001b[0m Failed to create topic [projects/sandbox-project-188621/topics/my-topic]: Resource already exists in the project (resource=my-topic).\n",
      "\u001b[1;31mERROR:\u001b[0m (gcloud.pubsub.topics.create) Failed to create the following: [my-topic].\n",
      "Exception ignored in: <function _after_fork at 0x10c333310>\n",
      "Traceback (most recent call last):\n",
      "  File \"/Library/Frameworks/Python.framework/Versions/3.9/lib/python3.9/threading.py\", line 1486, in _after_fork\n",
      "    thread._reset_internal_locks(True)\n",
      "  File \"/Library/Frameworks/Python.framework/Versions/3.9/lib/python3.9/threading.py\", line 829, in _reset_internal_locks\n",
      "    self._tstate_lock._at_fork_reinit()\n",
      "AttributeError: 'NoneType' object has no attribute '_at_fork_reinit'\n"
     ]
    }
   ],
   "source": [
    "!gcloud pubsub topics create my-topic"
   ]
  },
  {
   "cell_type": "code",
   "execution_count": 6,
   "metadata": {},
   "outputs": [
    {
     "name": "stdout",
     "output_type": "stream",
     "text": [
      "\u001b[1;31mERROR:\u001b[0m Failed to create subscription [projects/sandbox-project-188621/subscriptions/my-sub]: Resource already exists in the project (resource=my-sub).\n",
      "\u001b[1;31mERROR:\u001b[0m (gcloud.pubsub.subscriptions.create) Failed to create the following: [my-sub].\n",
      "Exception ignored in: <function _after_fork at 0x1059c1310>\n",
      "Traceback (most recent call last):\n",
      "  File \"/Library/Frameworks/Python.framework/Versions/3.9/lib/python3.9/threading.py\", line 1486, in _after_fork\n",
      "    thread._reset_internal_locks(True)\n",
      "  File \"/Library/Frameworks/Python.framework/Versions/3.9/lib/python3.9/threading.py\", line 829, in _reset_internal_locks\n",
      "    self._tstate_lock._at_fork_reinit()\n",
      "AttributeError: 'NoneType' object has no attribute '_at_fork_reinit'\n"
     ]
    }
   ],
   "source": [
    "!gcloud pubsub subscriptions create my-sub --topic my-topic"
   ]
  },
  {
   "cell_type": "markdown",
   "metadata": {},
   "source": [
    "## Publishing messages"
   ]
  },
  {
   "cell_type": "code",
   "execution_count": 22,
   "metadata": {},
   "outputs": [
    {
     "name": "stdout",
     "output_type": "stream",
     "text": [
      "1855326548344126\n",
      "1855322833530451\n",
      "1855325102684012\n",
      "1855304169376649\n",
      "1855331719643572\n",
      "1855302720443937\n",
      "1855314493513057\n",
      "1855318161528757\n",
      "1855321855457245\n",
      "Published messages to projects/sandbox-project-188621/topics/my-topic.\n"
     ]
    }
   ],
   "source": [
    "from google.cloud import pubsub_v1\n",
    "\n",
    "# TODO(developer)\n",
    "project_id = PROJECT\n",
    "topic_id = \"my-topic\"\n",
    "\n",
    "publisher = pubsub_v1.PublisherClient.from_service_account_json(API_KEY)\n",
    "# The `topic_path` method creates a fully qualified identifier\n",
    "# in the form `projects/{project_id}/topics/{topic_id}`\n",
    "topic_path = publisher.topic_path(project_id, topic_id)\n",
    "\n",
    "for n in range(1, 10):\n",
    "    data = \"Message number {}\".format(n)\n",
    "    # Data must be a bytestring\n",
    "    data = data.encode(\"utf-8\")\n",
    "    # When you publish a message, the client returns a future.\n",
    "    future = publisher.publish(topic_path, data)\n",
    "    print(future.result())\n",
    "\n",
    "print(f\"Published messages to {topic_path}.\")"
   ]
  },
  {
   "cell_type": "markdown",
   "metadata": {},
   "source": [
    "## Receiving messages"
   ]
  },
  {
   "cell_type": "code",
   "execution_count": 51,
   "metadata": {},
   "outputs": [
    {
     "name": "stdout",
     "output_type": "stream",
     "text": [
      "Listening for messages on projects/sandbox-project-188621/subscriptions/my-sub..\n",
      "\n",
      "Received Message {\n",
      "  data: b'{\"a\":{\"0\":1,\"1\":1},\"b\":{\"0\":2,\"1\":2}}'\n",
      "  ordering_key: ''\n",
      "  attributes: {}\n",
      "}.\n",
      "Received Message {\n",
      "  data: b'{\"a\":{\"0\":1,\"1\":1},\"b\":{\"0\":2,\"1\":2}}'\n",
      "  ordering_key: ''\n",
      "  attributes: {}\n",
      "}.\n"
     ]
    }
   ],
   "source": [
    "from concurrent.futures import TimeoutError\n",
    "from google.cloud import pubsub_v1\n",
    "\n",
    "# TODO(developer)\n",
    "# project_id = \"your-project-id\"\n",
    "project_id = PROJECT\n",
    "subscription_id = \"my-sub\"\n",
    "# Number of seconds the subscriber should listen for messages\n",
    "timeout = 5.0\n",
    "\n",
    "subscriber = pubsub_v1.SubscriberClient.from_service_account_json(API_KEY)\n",
    "# The `subscription_path` method creates a fully qualified identifier\n",
    "# in the form `projects/{project_id}/subscriptions/{subscription_id}`\n",
    "subscription_path = subscriber.subscription_path(project_id, subscription_id)\n",
    "\n",
    "results = []\n",
    "\n",
    "def callback(message):\n",
    "    results.append(message)\n",
    "    print(f\"Received {message}.\")\n",
    "    message.ack()\n",
    "\n",
    "streaming_pull_future = subscriber.subscribe(subscription_path, callback=callback)\n",
    "print(f\"Listening for messages on {subscription_path}..\\n\")\n",
    "\n",
    "# Wrap subscriber in a 'with' block to automatically call close() when done.\n",
    "with subscriber:\n",
    "    try:\n",
    "        # When `timeout` is not set, result() will block indefinitely,\n",
    "        # unless an exception is encountered first.\n",
    "        streaming_pull_future.result(timeout=timeout)\n",
    "    except TimeoutError:\n",
    "        streaming_pull_future.cancel()"
   ]
  },
  {
   "cell_type": "code",
   "execution_count": 39,
   "metadata": {},
   "outputs": [
    {
     "data": {
      "text/plain": [
       "b'Message number 2'"
      ]
     },
     "execution_count": 39,
     "metadata": {},
     "output_type": "execute_result"
    }
   ],
   "source": [
    "results[0].data"
   ]
  },
  {
   "cell_type": "markdown",
   "metadata": {},
   "source": [
    "## Passing DF/JSON Data"
   ]
  },
  {
   "cell_type": "code",
   "execution_count": 41,
   "metadata": {},
   "outputs": [],
   "source": [
    "import pandas as pd\n",
    "df = pd.DataFrame(columns=['a', 'b'], data=[[1,2], [1,2]])"
   ]
  },
  {
   "cell_type": "code",
   "execution_count": 43,
   "metadata": {},
   "outputs": [
    {
     "data": {
      "text/plain": [
       "'{\"a\":{\"0\":1,\"1\":1},\"b\":{\"0\":2,\"1\":2}}'"
      ]
     },
     "execution_count": 43,
     "metadata": {},
     "output_type": "execute_result"
    }
   ],
   "source": [
    "df.to_json()"
   ]
  },
  {
   "cell_type": "code",
   "execution_count": 52,
   "metadata": {},
   "outputs": [
    {
     "name": "stdout",
     "output_type": "stream",
     "text": [
      "1855332609439853\n"
     ]
    }
   ],
   "source": [
    "data = df.to_json()\n",
    "# Data must be a bytestring\n",
    "data = data.encode(\"utf-8\")\n",
    "# When you publish a message, the client returns a future.\n",
    "future = publisher.publish(topic_path, data)\n",
    "print(future.result())"
   ]
  },
  {
   "cell_type": "markdown",
   "metadata": {},
   "source": [
    "#### *Use subscriber block to pull the latest messages*"
   ]
  },
  {
   "cell_type": "code",
   "execution_count": 67,
   "metadata": {},
   "outputs": [
    {
     "data": {
      "text/plain": [
       "[Message {\n",
       "   data: b'{\"a\":{\"0\":1,\"1\":1},\"b\":{\"0\":2,\"1\":2}}'\n",
       "   ordering_key: ''\n",
       "   attributes: {}\n",
       " },\n",
       " Message {\n",
       "   data: b'{\"a\":{\"0\":1,\"1\":1},\"b\":{\"0\":2,\"1\":2}}'\n",
       "   ordering_key: ''\n",
       "   attributes: {}\n",
       " }]"
      ]
     },
     "execution_count": 67,
     "metadata": {},
     "output_type": "execute_result"
    }
   ],
   "source": [
    "results"
   ]
  },
  {
   "cell_type": "code",
   "execution_count": 65,
   "metadata": {},
   "outputs": [
    {
     "data": {
      "text/html": [
       "<div>\n",
       "<style scoped>\n",
       "    .dataframe tbody tr th:only-of-type {\n",
       "        vertical-align: middle;\n",
       "    }\n",
       "\n",
       "    .dataframe tbody tr th {\n",
       "        vertical-align: top;\n",
       "    }\n",
       "\n",
       "    .dataframe thead th {\n",
       "        text-align: right;\n",
       "    }\n",
       "</style>\n",
       "<table border=\"1\" class=\"dataframe\">\n",
       "  <thead>\n",
       "    <tr style=\"text-align: right;\">\n",
       "      <th></th>\n",
       "      <th>a</th>\n",
       "      <th>b</th>\n",
       "    </tr>\n",
       "  </thead>\n",
       "  <tbody>\n",
       "    <tr>\n",
       "      <th>0</th>\n",
       "      <td>1</td>\n",
       "      <td>2</td>\n",
       "    </tr>\n",
       "    <tr>\n",
       "      <th>1</th>\n",
       "      <td>1</td>\n",
       "      <td>2</td>\n",
       "    </tr>\n",
       "  </tbody>\n",
       "</table>\n",
       "</div>"
      ],
      "text/plain": [
       "   a  b\n",
       "0  1  2\n",
       "1  1  2"
      ]
     },
     "execution_count": 65,
     "metadata": {},
     "output_type": "execute_result"
    }
   ],
   "source": [
    "pd.read_json(results[0].data)"
   ]
  },
  {
   "cell_type": "code",
   "execution_count": null,
   "metadata": {},
   "outputs": [],
   "source": []
  }
 ],
 "metadata": {
  "kernelspec": {
   "display_name": "Python 3",
   "language": "python",
   "name": "python3"
  },
  "language_info": {
   "codemirror_mode": {
    "name": "ipython",
    "version": 3
   },
   "file_extension": ".py",
   "mimetype": "text/x-python",
   "name": "python",
   "nbconvert_exporter": "python",
   "pygments_lexer": "ipython3",
   "version": "3.9.0"
  }
 },
 "nbformat": 4,
 "nbformat_minor": 4
}
